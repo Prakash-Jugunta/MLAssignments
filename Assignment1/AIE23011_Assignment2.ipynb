{
 "cells": [
  {
   "cell_type": "code",
   "execution_count": null,
   "id": "10c09280",
   "metadata": {},
   "outputs": [],
   "source": [
    "import logging\n",
    "logging.basicConfig(filename=\"Assignment2_log.log\",\n",
    "                    format='%(asctime)s %(message)s',\n",
    "                    filemode='w')\n",
    "logger = logging.getLogger()\n",
    "logger.setLevel(logging.DEBUG)\n",
    "\n"
   ]
  },
  {
   "cell_type": "markdown",
   "id": "49f355be",
   "metadata": {},
   "source": [
    "# 1Q"
   ]
  },
  {
   "cell_type": "code",
   "execution_count": 25,
   "id": "203f8eb8",
   "metadata": {},
   "outputs": [
    {
     "name": "stdout",
     "output_type": "stream",
     "text": [
      "2\n"
     ]
    }
   ],
   "source": [
    "l=[2,7,4,1,3,6]\n",
    "answer={}\n",
    "target=10\n",
    "count=0\n",
    "for i in range(len(l)):\n",
    "    if l[i] in answer:\n",
    "        count+=1\n",
    "    answer[target-l[i]]=i   \n",
    "\n",
    "logger.info(count)\n",
    "print(count)"
   ]
  },
  {
   "cell_type": "markdown",
   "id": "5b0ad17b",
   "metadata": {},
   "source": [
    "# Q2"
   ]
  },
  {
   "cell_type": "code",
   "execution_count": 26,
   "id": "f9a8d485",
   "metadata": {},
   "outputs": [
    {
     "name": "stdout",
     "output_type": "stream",
     "text": [
      "3\n"
     ]
    }
   ],
   "source": [
    "class length_error(Exception):\n",
    "    '''shdffh'''\n",
    "l=[5,3,5,6]\n",
    "min=l[0]\n",
    "max=l[0]\n",
    "try:\n",
    "    if len(l)<3:\n",
    "        raise length_error\n",
    "    logging.info(\"This is working\")\n",
    "    for i in l:\n",
    "        if min>i:\n",
    "            min=i\n",
    "        if max<i:\n",
    "            max=i\n",
    "    print(max-min)\n",
    "except Exception:\n",
    "    logging.exception(\"The length is less than 3\")\n"
   ]
  },
  {
   "cell_type": "markdown",
   "id": "db010bba",
   "metadata": {},
   "source": [
    "# Q3"
   ]
  },
  {
   "cell_type": "code",
   "execution_count": 27,
   "id": "3e0dc9af",
   "metadata": {},
   "outputs": [],
   "source": [
    "def apowerm(A,m):\n",
    "    if m==1:\n",
    "        return A\n",
    "    C=[[0,0],[0,0]]\n",
    "    for i in range(len(A)):\n",
    "        for j in range(len(A)):\n",
    "            for k in range(len(A)):\n",
    "                C[i][j]+=A[i][k]*A[i][k]\n",
    "    return apowerm(C,m-1)\n",
    "A=[[1,1],[1,1]]\n",
    "logger.info(apowerm(A,4))"
   ]
  },
  {
   "cell_type": "markdown",
   "id": "ceb30aca",
   "metadata": {},
   "source": [
    "# Q4"
   ]
  },
  {
   "cell_type": "code",
   "execution_count": 28,
   "id": "9010cb13",
   "metadata": {},
   "outputs": [],
   "source": [
    "l=\"hippopotamus\"\n",
    "answer={}\n",
    "for i in l:\n",
    "    if i not in answer:\n",
    "        answer[i]=1\n",
    "    else:\n",
    "        answer[i]+=1\n",
    "logger.info(answer)"
   ]
  }
 ],
 "metadata": {
  "kernelspec": {
   "display_name": "base",
   "language": "python",
   "name": "python3"
  },
  "language_info": {
   "codemirror_mode": {
    "name": "ipython",
    "version": 3
   },
   "file_extension": ".py",
   "mimetype": "text/x-python",
   "name": "python",
   "nbconvert_exporter": "python",
   "pygments_lexer": "ipython3",
   "version": "3.12.4"
  }
 },
 "nbformat": 4,
 "nbformat_minor": 5
}
